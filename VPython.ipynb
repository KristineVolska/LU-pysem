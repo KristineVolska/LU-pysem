{
 "cells": [
  {
   "cell_type": "markdown",
   "metadata": {},
   "source": [
    "# VPython\n",
    "by Rita Dubovska\n",
    "\n"
   ]
  },
  {
   "cell_type": "markdown",
   "metadata": {},
   "source": [
    "## What is VPython?\n",
    "\n",
    "<div>Python + 3D modelling module. It allows creating 3D objects like spheres, cones, cubes and combining them together to form more complex objects. Actions can be performed with the objects like rotation, movement etc.</div>"
   ]
  },
  {
   "cell_type": "markdown",
   "metadata": {},
   "source": [
    "## History\n",
    "<ul>\n",
    "    <li>VPython is kind of oldschool -> created around 2000.</li>\n",
    "    <li>Several versions of VPython were released since then.</li>\n",
    "    <li>In 2016 it was announced that classic VPython (as an importable Python module) will not be supported anymore</li>\n",
    "    <li>Intstead, VPython now is only used with Jupyter and GlowScript.</li>\n",
    "</ul>"
   ]
  },
  {
   "cell_type": "markdown",
   "metadata": {},
   "source": [
    "## Usage\n",
    "1. Scientific - create models of real life objects processes\n",
    "2. Educational - teach programming by using objects that change and move as you change the code"
   ]
  },
  {
   "cell_type": "markdown",
   "metadata": {},
   "source": [
    "## Let's dive into VPython!\n",
    "To run upcoming code snippets you'll need to download vpython module.<br>\n",
    "You can do so by running <code>conda install -c vpython vpython</code> if you're using Anaconda"
   ]
  },
  {
   "cell_type": "code",
   "execution_count": null,
   "metadata": {},
   "outputs": [],
   "source": [
    "from vpython import *"
   ]
  },
  {
   "cell_type": "markdown",
   "metadata": {},
   "source": [
    "There are a bunch of objects available right away:\n",
    "<ul>\n",
    "    <li>box</li>\n",
    "    <li>sphere</li>\n",
    "    <li>cylinder</li>\n",
    "    <li>cone</li>\n",
    "    <li>ring</li>\n",
    "    <li>and more...</li>\n",
    "</ul>\n",
    "\n",
    "Let's take a look at one of them."
   ]
  },
  {
   "cell_type": "code",
   "execution_count": null,
   "metadata": {},
   "outputs": [],
   "source": [
    "canvas()\n",
    "box()"
   ]
  },
  {
   "cell_type": "markdown",
   "metadata": {},
   "source": [
    "<b>Playing with objects:</b>\n",
    "<ul>\n",
    "    <li>To rotate hold right mouse button and drag</li>\n",
    "    <li>To zoom in and out use mouse wheel</li>\n",
    "</ul>"
   ]
  },
  {
   "cell_type": "markdown",
   "metadata": {},
   "source": [
    "<b>How can we modify the object?</b>\n",
    "<br>\n",
    "We edit its attributes either when creating an object or afterwards by using object's handle."
   ]
  },
  {
   "cell_type": "code",
   "execution_count": null,
   "metadata": {},
   "outputs": [],
   "source": [
    "# Colors and opacity\n",
    "canvas()\n",
    "box1 = box(pos=vector(-1,0,0), color=color.red)\n",
    "\n",
    "box2 = box()\n",
    "box2.pos = vector(1,0,0)\n",
    "box2.color=color.red\n",
    "box2.opacity=0.4"
   ]
  },
  {
   "cell_type": "code",
   "execution_count": null,
   "metadata": {},
   "outputs": [],
   "source": [
    "# Textures\n",
    "canvas()\n",
    "box1 = box(pos=vector(-1,0,0), texture=textures.wood)\n",
    "box2 = box(pos=vector(1,0,0), texture=\"https://i.imgur.com/jShWTtp.jpg\") #Only for CORS-enabled images\n"
   ]
  },
  {
   "cell_type": "code",
   "execution_count": null,
   "metadata": {},
   "outputs": [],
   "source": [
    "# Extrusion (holes in objects)\n",
    "canvas() \n",
    "tube = extrusion(path=[vec(0,0,0), vec(2,0,0)], \n",
    "                 shape=shapes.rectangle(width=2, height=2, thickness=0.3), \n",
    "                 color=color.yellow)"
   ]
  },
  {
   "cell_type": "markdown",
   "metadata": {},
   "source": [
    "<b>What can we do with the object?</b>"
   ]
  },
  {
   "cell_type": "code",
   "execution_count": null,
   "metadata": {},
   "outputs": [],
   "source": [
    "# Light them up\n",
    "canvas()\n",
    "\n",
    "b = box()\n",
    "s = sphere(pos=vector(1.5,1,0), emissive=True, color=color.red, radius=0.1)\n",
    "light = local_light(pos=vector(5,5,0), color=color.red)"
   ]
  },
  {
   "cell_type": "code",
   "execution_count": null,
   "metadata": {},
   "outputs": [],
   "source": [
    "# Rotate\n",
    "canvas()\n",
    "b = box()\n",
    "while True:\n",
    "    rate(100)\n",
    "    b.rotate(angle=1e-4*pi*10, axis=vec(0,1,0))"
   ]
  },
  {
   "cell_type": "code",
   "execution_count": null,
   "metadata": {},
   "outputs": [],
   "source": [
    "# Move\n",
    "canvas()\n",
    "b = box()\n",
    "\n",
    "t = 0\n",
    "dt = 0.01\n",
    "while True:\n",
    "    rate(100)\n",
    "    b.pos.x = -1+sin(2*t)\n",
    "    t += dt"
   ]
  },
  {
   "cell_type": "code",
   "execution_count": null,
   "metadata": {},
   "outputs": [],
   "source": [
    "# Combine objects for extra fun!\n",
    "canvas()\n",
    "\n",
    "handle = cylinder( size=vector(1,.2,.2), color=vector(0.72,0.42,0) )\n",
    "\n",
    "head = box( size=vector(.2,.6,.2), pos=vector(1.1,0,0), color=color.gray(.6) )\n",
    "\n",
    "hammer = compound([handle, head])\n",
    "hammer.axis = vector(1,1,0)"
   ]
  },
  {
   "cell_type": "markdown",
   "metadata": {},
   "source": [
    "More examples on what VPython is capable of <a href=\"http://www.glowscript.org/#/user/GlowScriptDemos/folder/Examples/\">here</a>.\n",
    "<br>\n",
    "<br>\n",
    "See <a href=\"http://www.glowscript.org/docs/VPythonDocs/index.html\">documentation</a> for details on how to do things in VPython."
   ]
  }
 ],
 "metadata": {
  "kernelspec": {
   "display_name": "VPython",
   "language": "python",
   "name": "vpython"
  },
  "language_info": {
   "codemirror_mode": {
    "name": "ipython",
    "version": 3
   },
   "file_extension": ".py",
   "mimetype": "text/x-python",
   "name": "python",
   "nbconvert_exporter": "python",
   "pygments_lexer": "ipython3",
   "version": "3.6.6"
  }
 },
 "nbformat": 4,
 "nbformat_minor": 2
}
